{
  "nbformat": 4,
  "nbformat_minor": 0,
  "metadata": {
    "colab": {
      "name": "liveness.ipynb",
      "provenance": [],
      "authorship_tag": "ABX9TyNi4VsVTbTnc3Rbeu8jsZ4G",
      "include_colab_link": true
    },
    "kernelspec": {
      "name": "python3",
      "display_name": "Python 3"
    },
    "language_info": {
      "name": "python"
    }
  },
  "cells": [
    {
      "cell_type": "markdown",
      "metadata": {
        "id": "view-in-github",
        "colab_type": "text"
      },
      "source": [
        "<a href=\"https://colab.research.google.com/github/saraMuay/face-liveness/blob/main/liveness.ipynb\" target=\"_parent\"><img src=\"https://colab.research.google.com/assets/colab-badge.svg\" alt=\"Open In Colab\"/></a>"
      ]
    },
    {
      "cell_type": "code",
      "metadata": {
        "id": "GQSTCIHr_vlV"
      },
      "source": [
        "import cv2\n",
        "from tensorflow.keras.preprocessing.image import img_to_array\n",
        "import os\n",
        "import numpy as np\n",
        "from tensorflow.keras.models import model_from_json"
      ],
      "execution_count": 1,
      "outputs": []
    },
    {
      "cell_type": "code",
      "metadata": {
        "colab": {
          "base_uri": "https://localhost:8080/"
        },
        "id": "6SE6TCLWBrJE",
        "outputId": "87ce2c4d-d6be-4a60-8324-3b23ab3c66b6"
      },
      "source": [
        "from google.colab import drive\n",
        "drive.mount('/content/gdrive')"
      ],
      "execution_count": 6,
      "outputs": [
        {
          "output_type": "stream",
          "name": "stdout",
          "text": [
            "Mounted at /content/gdrive\n"
          ]
        }
      ]
    },
    {
      "cell_type": "code",
      "metadata": {
        "id": "RxbnhtwOCbFn"
      },
      "source": [
        "!cp -r \"/content/gdrive/MyDrive/antispoofing.zip\" \"/content\""
      ],
      "execution_count": 7,
      "outputs": []
    },
    {
      "cell_type": "code",
      "metadata": {
        "id": "5vdalCuZCkF1"
      },
      "source": [
        "import zipfile\n",
        "archive = zipfile.ZipFile('/content/gdrive/MyDrive/antispoofing.zip')\n",
        "archive.extractall('/content')"
      ],
      "execution_count": 9,
      "outputs": []
    },
    {
      "cell_type": "code",
      "metadata": {
        "id": "3cLN4LmyCkBl"
      },
      "source": [
        ""
      ],
      "execution_count": null,
      "outputs": []
    },
    {
      "cell_type": "code",
      "metadata": {
        "id": "5YN1vTJyAqBf"
      },
      "source": [
        "root_dir =  '/content/antispoofing'"
      ],
      "execution_count": 10,
      "outputs": []
    },
    {
      "cell_type": "code",
      "metadata": {
        "id": "3a5IqBpAAxuX"
      },
      "source": [
        "face_cascade = cv2.CascadeClassifier(\"model/haarcascade_frontalface_default.xml\")"
      ],
      "execution_count": 11,
      "outputs": []
    },
    {
      "cell_type": "code",
      "metadata": {
        "id": "KCYnxKjuBDwE"
      },
      "source": [
        "json_file = open('model/project_antispoofing_model_mobilenet.json','r')\n",
        "loaded_model_json = json_file.read()\n",
        "json_file.close()\n",
        "model = model_from_json(loaded_model_json)\n",
        "model.load_weights('model/ـantispoofing_model.h5')\n"
      ],
      "execution_count": 12,
      "outputs": []
    },
    {
      "cell_type": "code",
      "metadata": {
        "id": "oFNqkz0rG2Ys"
      },
      "source": [
        "ex= 'abarnvbtwb.mp4'\n",
        "video = cv2.VideoCapture(ex)"
      ],
      "execution_count": 16,
      "outputs": []
    },
    {
      "cell_type": "code",
      "metadata": {
        "id": "qXyryJtEFLsf"
      },
      "source": [
        "video = cv2.VideoCapture(0)"
      ],
      "execution_count": 17,
      "outputs": []
    },
    {
      "cell_type": "code",
      "metadata": {
        "colab": {
          "base_uri": "https://localhost:8080/",
          "height": 234
        },
        "id": "UUP1eFQ-EhKs",
        "outputId": "b38aa76c-8fcf-457f-b40e-7e1e9b579bdb"
      },
      "source": [
        "\n",
        "while True:\n",
        "    try:\n",
        "        ret,frame = video.read()\n",
        "        gray = cv2.cvtColor(frame,cv2.COLOR_BGR2GRAY)\n",
        "        faces = face_cascade.detectMultiScale(gray,1.3,5)\n",
        "        for (x,y,w,h) in faces:  \n",
        "            face = frame[y-5:y+h+5,x-5:x+w+5]\n",
        "            resized_face = cv2.resize(face,(160,160))\n",
        "            resized_face = resized_face.astype(\"float\") / 255.0\n",
        "            resized_face = np.expand_dims(resized_face, axis=0)\n",
        "\n",
        "\n",
        "            preds = model.predict(resized_face)[0]\n",
        "            print(preds)\n",
        "            if preds> 0.5:\n",
        "                label = 'spoof'\n",
        "                cv2.putText(frame, label, (x,y - 10),\n",
        "                    cv2.FONT_HERSHEY_SIMPLEX, 0.5, (0,0,255), 2)\n",
        "                cv2.rectangle(frame, (x, y), (x+w,y+h),\n",
        "                    (0, 0, 255), 2)\n",
        "            else:\n",
        "                label = 'real'\n",
        "                cv2.putText(frame, label, (x,y - 10),\n",
        "                    cv2.FONT_HERSHEY_SIMPLEX, 0.5, (0,255,0), 2)\n",
        "                cv2.rectangle(frame, (x, y), (x+w,y+h),\n",
        "                (0, 255, 0), 2)\n",
        "        cv2.imshow('frame', frame)\n",
        "        key = cv2.waitKey(1)\n",
        "        if key == ord('q'):\n",
        "            break\n",
        "    except Exception as e:\n",
        "        pass\n",
        "video.release()        \n",
        "cv2.destroyAllWindows()"
      ],
      "execution_count": 18,
      "outputs": [
        {
          "output_type": "error",
          "ename": "KeyboardInterrupt",
          "evalue": "ignored",
          "traceback": [
            "\u001b[0;31m---------------------------------------------------------------------------\u001b[0m",
            "\u001b[0;31mKeyboardInterrupt\u001b[0m                         Traceback (most recent call last)",
            "\u001b[0;32m<ipython-input-18-1a34f57f9c43>\u001b[0m in \u001b[0;36m<module>\u001b[0;34m()\u001b[0m\n\u001b[1;32m      2\u001b[0m \u001b[0;32mwhile\u001b[0m \u001b[0;32mTrue\u001b[0m\u001b[0;34m:\u001b[0m\u001b[0;34m\u001b[0m\u001b[0;34m\u001b[0m\u001b[0m\n\u001b[1;32m      3\u001b[0m     \u001b[0;32mtry\u001b[0m\u001b[0;34m:\u001b[0m\u001b[0;34m\u001b[0m\u001b[0;34m\u001b[0m\u001b[0m\n\u001b[0;32m----> 4\u001b[0;31m         \u001b[0mret\u001b[0m\u001b[0;34m,\u001b[0m\u001b[0mframe\u001b[0m \u001b[0;34m=\u001b[0m \u001b[0mvideo\u001b[0m\u001b[0;34m.\u001b[0m\u001b[0mread\u001b[0m\u001b[0;34m(\u001b[0m\u001b[0;34m)\u001b[0m\u001b[0;34m\u001b[0m\u001b[0;34m\u001b[0m\u001b[0m\n\u001b[0m\u001b[1;32m      5\u001b[0m         \u001b[0mgray\u001b[0m \u001b[0;34m=\u001b[0m \u001b[0mcv2\u001b[0m\u001b[0;34m.\u001b[0m\u001b[0mcvtColor\u001b[0m\u001b[0;34m(\u001b[0m\u001b[0mframe\u001b[0m\u001b[0;34m,\u001b[0m\u001b[0mcv2\u001b[0m\u001b[0;34m.\u001b[0m\u001b[0mCOLOR_BGR2GRAY\u001b[0m\u001b[0;34m)\u001b[0m\u001b[0;34m\u001b[0m\u001b[0;34m\u001b[0m\u001b[0m\n\u001b[1;32m      6\u001b[0m         \u001b[0mfaces\u001b[0m \u001b[0;34m=\u001b[0m \u001b[0mface_cascade\u001b[0m\u001b[0;34m.\u001b[0m\u001b[0mdetectMultiScale\u001b[0m\u001b[0;34m(\u001b[0m\u001b[0mgray\u001b[0m\u001b[0;34m,\u001b[0m\u001b[0;36m1.3\u001b[0m\u001b[0;34m,\u001b[0m\u001b[0;36m5\u001b[0m\u001b[0;34m)\u001b[0m\u001b[0;34m\u001b[0m\u001b[0;34m\u001b[0m\u001b[0m\n",
            "\u001b[0;31mKeyboardInterrupt\u001b[0m: "
          ]
        }
      ]
    },
    {
      "cell_type": "code",
      "metadata": {
        "id": "67d7mxvvEjaU"
      },
      "source": [
        ""
      ],
      "execution_count": null,
      "outputs": []
    }
  ]
}